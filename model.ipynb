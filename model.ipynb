{
 "cells": [
  {
   "cell_type": "code",
   "execution_count": 11,
   "metadata": {},
   "outputs": [],
   "source": [
    "\n",
    "\n",
    "import os, shutil, pathlib,random\n",
    "from keras.utils import image_dataset_from_directory\n",
    "import tensorflow as tf\n",
    "import numpy as np\n",
    "from keras import layers, models\n",
    "from sklearn.metrics import confusion_matrix\n",
    "import tensorflow as tf\n",
    "import matplotlib.pyplot as plt\n",
    "from sklearn.metrics import recall_score, f1_score, precision_score,accuracy_score\n",
    "import keras"
   ]
  },
  {
   "cell_type": "code",
   "execution_count": 3,
   "metadata": {},
   "outputs": [],
   "source": [
    "\n",
    "\n",
    "original_dir = r'train\\train'  # Update this to the correct directory path\n",
    "new_base_dir = pathlib.Path(\"cats_vs_dogs_small\")\n",
    "\n",
    "def make_subset(subset_name, start_index, end_index):\n",
    "    for category in (\"cats\", \"dogs\"):\n",
    "        dir = new_base_dir / subset_name / category\n",
    "        if not os.path.exists(dir):\n",
    "            os.makedirs(dir)\n",
    "        fnames = [\"%s.%d.jpg\" % (category[:len(category)-1], i) for i in range(start_index, end_index)]\n",
    "        for k in fnames:\n",
    "            src_file = os.path.join(original_dir, k)\n",
    "            dst_file = os.path.join(dir, k)\n",
    "            if not os.path.exists(src_file):\n",
    "                print(f\"Warning: File '{src_file}' does not exist.\")\n",
    "            else:\n",
    "                try:\n",
    "                    shutil.copyfile(src=src_file, dst=dst_file)\n",
    "                except Exception as e:\n",
    "                    print(f\"Error copying file '{src_file}' to '{dst_file}': {e}\")\n",
    "\n",
    "\n"
   ]
  },
  {
   "cell_type": "code",
   "execution_count": null,
   "metadata": {},
   "outputs": [],
   "source": [
    "make_subset(\"train\", start_index=0, end_index=1000)\n",
    "make_subset(\"validation\", start_index=1000, end_index=1500)\n",
    "make_subset(\"test\", start_index=1500, end_index=2500)"
   ]
  },
  {
   "cell_type": "code",
   "execution_count": 5,
   "metadata": {},
   "outputs": [
    {
     "name": "stdout",
     "output_type": "stream",
     "text": [
      "Model: \"model\"\n",
      "_________________________________________________________________\n",
      " Layer (type)                Output Shape              Param #   \n",
      "=================================================================\n",
      " input_1 (InputLayer)        [(None, 180, 180, 3)]     0         \n",
      "                                                                 \n",
      " rescaling (Rescaling)       (None, 180, 180, 3)       0         \n",
      "                                                                 \n",
      " conv2d (Conv2D)             (None, 178, 178, 32)      896       \n",
      "                                                                 \n",
      " max_pooling2d (MaxPooling2D  (None, 89, 89, 32)       0         \n",
      " )                                                               \n",
      "                                                                 \n",
      " conv2d_1 (Conv2D)           (None, 87, 87, 64)        18496     \n",
      "                                                                 \n",
      " max_pooling2d_1 (MaxPooling  (None, 43, 43, 64)       0         \n",
      " 2D)                                                             \n",
      "                                                                 \n",
      " conv2d_2 (Conv2D)           (None, 41, 41, 128)       73856     \n",
      "                                                                 \n",
      " max_pooling2d_2 (MaxPooling  (None, 20, 20, 128)      0         \n",
      " 2D)                                                             \n",
      "                                                                 \n",
      " conv2d_3 (Conv2D)           (None, 18, 18, 256)       295168    \n",
      "                                                                 \n",
      " max_pooling2d_3 (MaxPooling  (None, 9, 9, 256)        0         \n",
      " 2D)                                                             \n",
      "                                                                 \n",
      " conv2d_4 (Conv2D)           (None, 7, 7, 256)         590080    \n",
      "                                                                 \n",
      " flatten (Flatten)           (None, 12544)             0         \n",
      "                                                                 \n",
      " dense (Dense)               (None, 1)                 12545     \n",
      "                                                                 \n",
      "=================================================================\n",
      "Total params: 991,041\n",
      "Trainable params: 991,041\n",
      "Non-trainable params: 0\n",
      "_________________________________________________________________\n"
     ]
    }
   ],
   "source": [
    "inputs = keras.Input(shape=(180, 180, 3))\n",
    "x = layers.Rescaling(1./255)(inputs)\n",
    "x = layers.Conv2D(filters=32, kernel_size=3, activation=\"relu\")(x)\n",
    "x = layers.MaxPooling2D(pool_size=2)(x)\n",
    "x = layers.Conv2D(filters=64, kernel_size=3, activation=\"relu\")(x)\n",
    "x = layers.MaxPooling2D(pool_size=2)(x)\n",
    "x = layers.Conv2D(filters=128, kernel_size=3, activation=\"relu\")(x)\n",
    "x = layers.MaxPooling2D(pool_size=2)(x)\n",
    "x = layers.Conv2D(filters=256, kernel_size=3, activation=\"relu\")(x)\n",
    "x = layers.MaxPooling2D(pool_size=2)(x)\n",
    "x = layers.Conv2D(filters=256, kernel_size=3, activation=\"relu\")(x)\n",
    "x = layers.Flatten()(x)\n",
    "outputs = layers.Dense(1, activation=\"sigmoid\")(x)\n",
    "model = keras.Model(inputs=inputs, outputs=outputs)\n",
    "model.summary()\n",
    "model.compile(loss=\"binary_crossentropy\",\n",
    "optimizer=\"rmsprop\",\n",
    "metrics=[\"accuracy\"])"
   ]
  },
  {
   "cell_type": "code",
   "execution_count": 7,
   "metadata": {},
   "outputs": [
    {
     "name": "stdout",
     "output_type": "stream",
     "text": [
      "Found 2000 files belonging to 2 classes.\n",
      "Found 1000 files belonging to 2 classes.\n",
      "Found 2000 files belonging to 2 classes.\n"
     ]
    }
   ],
   "source": [
    "train_dataset = image_dataset_from_directory(new_base_dir / \"train\",\n",
    "image_size=(180, 180),\n",
    "batch_size=32)\n",
    "validation_dataset = image_dataset_from_directory(\n",
    "new_base_dir / \"validation\",\n",
    "image_size=(180, 180),\n",
    "batch_size=32)\n",
    "test_dataset = image_dataset_from_directory(\n",
    "new_base_dir / \"test\",\n",
    "image_size=(180, 180),\n",
    "batch_size=32)\n"
   ]
  },
  {
   "cell_type": "code",
   "execution_count": 8,
   "metadata": {},
   "outputs": [
    {
     "name": "stdout",
     "output_type": "stream",
     "text": [
      "Epoch 1/10\n",
      "63/63 [==============================] - 61s 948ms/step - loss: 0.8114 - accuracy: 0.5055 - val_loss: 0.6924 - val_accuracy: 0.5950\n",
      "Epoch 2/10\n",
      "63/63 [==============================] - 64s 1s/step - loss: 0.6958 - accuracy: 0.5240 - val_loss: 0.6792 - val_accuracy: 0.6250\n",
      "Epoch 3/10\n",
      "63/63 [==============================] - 64s 1s/step - loss: 0.6942 - accuracy: 0.5785 - val_loss: 0.6674 - val_accuracy: 0.5940\n",
      "Epoch 4/10\n",
      "63/63 [==============================] - 67s 1s/step - loss: 0.6413 - accuracy: 0.6365 - val_loss: 0.6244 - val_accuracy: 0.6540\n",
      "Epoch 5/10\n",
      "63/63 [==============================] - 71s 1s/step - loss: 0.5946 - accuracy: 0.6815 - val_loss: 0.6070 - val_accuracy: 0.6530\n",
      "Epoch 6/10\n",
      "63/63 [==============================] - 70s 1s/step - loss: 0.5603 - accuracy: 0.7030 - val_loss: 0.5933 - val_accuracy: 0.6990\n",
      "Epoch 7/10\n",
      "63/63 [==============================] - 78s 1s/step - loss: 0.5075 - accuracy: 0.7555 - val_loss: 0.6067 - val_accuracy: 0.6780\n",
      "Epoch 8/10\n",
      "63/63 [==============================] - 75s 1s/step - loss: 0.4657 - accuracy: 0.7980 - val_loss: 0.5451 - val_accuracy: 0.7340\n",
      "Epoch 9/10\n",
      "63/63 [==============================] - 78s 1s/step - loss: 0.4231 - accuracy: 0.8115 - val_loss: 0.5437 - val_accuracy: 0.7300\n",
      "Epoch 10/10\n",
      "63/63 [==============================] - 75s 1s/step - loss: 0.3795 - accuracy: 0.8320 - val_loss: 0.5833 - val_accuracy: 0.7490\n"
     ]
    }
   ],
   "source": [
    "his = model.fit(\n",
    "train_dataset,\n",
    "epochs=10,\n",
    "validation_data=validation_dataset)\n"
   ]
  },
  {
   "cell_type": "code",
   "execution_count": 12,
   "metadata": {},
   "outputs": [
    {
     "data": {
      "image/png": "[encoded data removed]",
      "text/plain": [
       "<Figure size 640x480 with 1 Axes>"
      ]
     },
     "metadata": {},
     "output_type": "display_data"
    }
   ],
   "source": [
    "plt.plot(his.history['accuracy'])\n",
    "plt.plot(his.history['val_accuracy'])\n",
    "plt.title('model accuracy')\n",
    "plt.ylabel('accuracy')\n",
    "plt.xlabel('epoch')\n",
    "plt.legend(['train', 'test'], loc='upper left')\n",
    "plt.show()\n",
    "\n"
   ]
  },
  {
   "cell_type": "code",
   "execution_count": 13,
   "metadata": {},
   "outputs": [
    {
     "data": {
      "image/png": "[encoded data removed]",
      "text/plain": [
       "<Figure size 640x480 with 1 Axes>"
      ]
     },
     "metadata": {},
     "output_type": "display_data"
    }
   ],
   "source": [
    "# summarize history for loss\n",
    "plt.plot(his.history['loss'])\n",
    "plt.plot(his.history['val_loss'])\n",
    "plt.title('model loss')\n",
    "plt.ylabel('loss')\n",
    "plt.xlabel('epoch')\n",
    "plt.legend(['train', 'test'], loc='upper left')\n",
    "plt.show()"
   ]
  },
  {
   "cell_type": "code",
   "execution_count": null,
   "metadata": {},
   "outputs": [],
   "source": [
    "inputs = keras.Input(shape=(180, 180, 3))\n",
    "x = layers.Rescaling(1./255)(inputs)\n",
    "x = layers.Conv2D(filters=32, kernel_size=3, activation=\"relu\")(x)\n",
    "x = layers.MaxPooling2D(pool_size=2)(x)\n",
    "x = layers.Conv2D(filters=64, kernel_size=3, activation=\"relu\")(x)\n",
    "x = layers.MaxPooling2D(pool_size=2)(x)\n",
    "x = layers.Dropout(0.5)(x)\n",
    "x = layers.Conv2D(filters=128, kernel_size=3, activation=\"relu\")(x)\n",
    "x = layers.MaxPooling2D(pool_size=2)(x)\n",
    "x = layers.Conv2D(filters=256, kernel_size=3, activation=\"relu\")(x)\n",
    "x = layers.MaxPooling2D(pool_size=2)(x)\n",
    "x = layers.Conv2D(filters=256, kernel_size=3, activation=\"relu\")(x)\n",
    "x = layers.Flatten()(x)\n",
    "x = layers.Dropout(0.5)(x)\n",
    "outputs = layers.Dense(1, activation=\"sigmoid\")(x)\n",
    "model = keras.Model(inputs=inputs, outputs=outputs)\n",
    "model.summary()\n",
    "model.compile(loss=\"binary_crossentropy\",\n",
    "optimizer=\"rmsprop\",\n",
    "metrics=[\"accuracy\"])\n"
   ]
  },
  {
   "cell_type": "code",
   "execution_count": null,
   "metadata": {},
   "outputs": [],
   "source": [
    "data_augmentation = keras.Sequential(\n",
    "[ layers.RandomFlip(\"horizontal\"),\n",
    "layers.RandomRotation(0.1),\n",
    "layers.RandomZoom(0.2),\n",
    "])"
   ]
  },
  {
   "cell_type": "code",
   "execution_count": null,
   "metadata": {},
   "outputs": [],
   "source": [
    "x = data_augmentation(inputs)\n",
    "x = layers.Rescaling(1./255)(x)\n",
    "x = layers.Conv2D(filters=32, kernel_size=3, activation=\"relu\")(x)\n",
    "x = layers.MaxPooling2D(pool_size=2)(x)\n",
    "x = layers.Conv2D(filters=64, kernel_size=3, activation=\"relu\")(x)\n",
    "x = layers.MaxPooling2D(pool_size=2)(x)\n",
    "x = layers.Conv2D(filters=128, kernel_size=3, activation=\"relu\")(x)\n",
    "x = layers.MaxPooling2D(pool_size=2)(x)\n",
    "x = layers.Conv2D(filters=256, kernel_size=3, activation=\"relu\")(x)\n",
    "x = layers.MaxPooling2D(pool_size=2)(x)\n",
    "x = layers.Conv2D(filters=256, kernel_size=3, activation=\"relu\")(x)\n",
    "x = layers.Flatten()(x)\n",
    "x = layers.Dropout(0.5)(x)\n",
    "outputs = layers.Dense(1, activation=\"sigmoid\")(x)\n",
    "model = keras.Model(inputs=inputs, outputs=outputs)\n",
    "model.summary()\n",
    "model.compile(loss=\"binary_crossentropy\",\n",
    "optimizer=\"rmsprop\",\n",
    "metrics=[\"accuracy\"])"
   ]
  },
  {
   "cell_type": "code",
   "execution_count": null,
   "metadata": {},
   "outputs": [],
   "source": [
    "def Import_and_Resize(dataset_dir,image_size=180,batch_size=32,shuffle_set=False):\n",
    "    class_list=train_dataset = image_dataset_from_directory(dataset_dir+\"/train\",\n",
    "    image_size=(image_size, image_size),batch_size=batch_size,shuffle=shuffle_set) \n",
    "    #set shuffle=True when train, and change shuffle=False when plot CF matrix\n",
    "    validation_dataset = image_dataset_from_directory(dataset_dir+\"/test\",\n",
    "    image_size=(image_size, image_size),batch_size=batch_size,shuffle=shuffle_set) \n",
    "    #set shuffle=True when train, and change shuffle=False when plot CF matrix\n",
    "    test_dataset = image_dataset_from_directory(dataset_dir+\"/test\",\n",
    "    image_size=(image_size, image_size),batch_size=batch_size,shuffle=shuffle_set) \n",
    "    #set shuffle=True when train, and change shuffle=False when plot CF matrix\n",
    "    print(\"\\nClass name list: %s\" %class_list.class_names)\n",
    "    return train_dataset,validation_dataset,test_dataset,class_list\n",
    "    # return train_dataset,test_dataset,class_list"
   ]
  },
  {
   "cell_type": "code",
   "execution_count": null,
   "metadata": {},
   "outputs": [],
   "source": [
    "def load_and_prep_image(filename, img_shape=180):\n",
    "    img = tf.io.read_file(filename)\n",
    "    img = tf.image.decode_image(img, channels=3)\n",
    "    img = tf.image.resize(img, size = [img_shape, img_shape])\n",
    "    return img\n"
   ]
  },
  {
   "cell_type": "code",
   "execution_count": null,
   "metadata": {},
   "outputs": [],
   "source": [
    "listclass=os.listdir(\"/content/catdog/train\")\n",
    "randclass=random.choice(listclass)\n",
    "listpic=os.listdir(\"/content/catdog/train/%s\"%randclass)\n",
    "randpic=random.choice(listpic)\n",
    "img=load_and_prep_image(\"/content/catdog/train/%s/%s\"%(randclass,randpic))\n",
    "print(\"Class:\",randclass,\"\\nPic name:\",randpic)\n",
    "img1 = img/255.0\n",
    "plt.imshow(img1)\n",
    "plt.axis(False)\n",
    "plt.show()\n"
   ]
  },
  {
   "cell_type": "code",
   "execution_count": null,
   "metadata": {},
   "outputs": [],
   "source": [
    "train_dataset,validation_dataset,test_dataset,class_list=Import_and_Resize(\"/content/catdog\", image_size=180, shuffle_set=True)"
   ]
  },
  {
   "cell_type": "code",
   "execution_count": null,
   "metadata": {},
   "outputs": [],
   "source": [
    "inputs = keras.Input(shape=(180, 180, 3))\n",
    "x = data_augmentation(inputs)\n",
    "x = layers.Rescaling(1./255)(x)\n",
    "x = layers.Conv2D(filters=32, kernel_size=3, activation=\"relu\")(x)\n",
    "x = layers.MaxPooling2D(pool_size=2)(x)\n",
    "x = layers.Conv2D(filters=64, kernel_size=3, activation=\"relu\")(x)\n",
    "x = layers.MaxPooling2D(pool_size=2)(x)\n",
    "x = layers.Conv2D(filters=128, kernel_size=3, activation=\"relu\")(x)\n",
    "x = layers.MaxPooling2D(pool_size=2)(x)\n",
    "x = layers.Conv2D(filters=256, kernel_size=3, activation=\"relu\")(x)\n",
    "x = layers.MaxPooling2D(pool_size=2)(x)\n",
    "x = layers.Conv2D(filters=256, kernel_size=3, activation=\"relu\")(x)\n",
    "x = layers.Flatten()(x)\n",
    "x = layers.Dropout(0.2)(x)\n",
    "outputs = layers.Dense(2, activation=\"softmax\")(x)\n",
    "model = keras.Model(inputs=inputs, outputs=outputs)\n",
    "model.summary()\n",
    "# model.compile(loss=\"binary_crossentropy\",\n",
    "model.compile(loss=\"SparseCategoricalCrossentropy\",\n",
    "optimizer=\"Adam\",\n",
    "metrics=[\"accuracy\"])"
   ]
  },
  {
   "cell_type": "code",
   "execution_count": null,
   "metadata": {},
   "outputs": [],
   "source": [
    "hist = model.fit(train_dataset,\n",
    "epochs=10,\n",
    "# batch_size=32,\n",
    "shuffle=True,\n",
    "validation_data=validation_dataset,)"
   ]
  },
  {
   "cell_type": "code",
   "execution_count": null,
   "metadata": {},
   "outputs": [],
   "source": [
    "def plotloss_acc(train_history,acclim,losslim):\n",
    "    fig=plt.figure()\n",
    "    ax1=fig.gca()\n",
    "    ax1.set_title(\"Model accuracy and loss\")\n",
    "    ax1.plot(train_history.history['accuracy'],label=\"accuracy\",c='r')\n",
    "    ax1.plot(train_history.history['val_accuracy'],label=\"val_accuracy\",c='g')\n",
    "    ax1.set_ylim(acclim)\n",
    "    ax2=ax1.twinx()\n",
    "    ax2.plot(train_history.history['loss'],label=\"loss\",c='r',ls=\":\")\n",
    "    ax2.plot(train_history.history['val_loss'],label=\"val_loss\",c='g',ls=\"--\")\n",
    "    ax2.set_ylim(losslim)\n",
    "    ax1.legend(loc='center left')\n",
    "    ax2.legend(loc='center right')\n",
    "    plt.show()\n"
   ]
  },
  {
   "cell_type": "code",
   "execution_count": null,
   "metadata": {},
   "outputs": [],
   "source": [
    "plotloss_acc(hist,[0.5,1],[0,1])"
   ]
  },
  {
   "cell_type": "code",
   "execution_count": null,
   "metadata": {},
   "outputs": [],
   "source": [
    "model.save(\"catdog.h5\")"
   ]
  },
  {
   "cell_type": "code",
   "execution_count": null,
   "metadata": {},
   "outputs": [],
   "source": [
    "mymo = keras.models.load_model('catdog.h5')"
   ]
  },
  {
   "cell_type": "code",
   "execution_count": null,
   "metadata": {},
   "outputs": [],
   "source": [
    "def load_and_prep_image(filename, img_shape=180):\n",
    "    img = tf.io.read_file(filename)\n",
    "    img = tf.image.decode_image(img, channels=3)\n",
    "    img = tf.image.resize(img, size = [img_shape, img_shape])\n",
    "    return img"
   ]
  },
  {
   "cell_type": "code",
   "execution_count": null,
   "metadata": {},
   "outputs": [],
   "source": [
    "def pred_and_plot(model, filename, class_names):\n",
    "    img = load_and_prep_image(filename)\n",
    "    pred = model.predict(tf.expand_dims(img, axis=0))\n",
    "    print(pred)\n",
    "    pred_class = class_names[int(tf.round(pred)[0][0])]\n",
    "    img1 = img/255.0\n",
    "    plt.imshow(img1)\n",
    "    plt.title(f\"Prediction: {pred_class}\")\n",
    "    plt.axis(False);\n",
    "    plt.show()\n",
    "    return pred"
   ]
  },
  {
   "cell_type": "code",
   "execution_count": null,
   "metadata": {},
   "outputs": [],
   "source": [
    "pred_and_plot(mymo,'/content/catdog/test/cats/cat.4109.jpg',class_names)\n"
   ]
  },
  {
   "cell_type": "code",
   "execution_count": null,
   "metadata": {},
   "outputs": [],
   "source": [
    "class_names=['cat','dog']\n",
    "def combo_pred(model, filename, class_names, img_shape=180):\n",
    "    img = tf.io.read_file(filename)\n",
    "    img = tf.image.decode_image(img, channels=3)\n",
    "    img = tf.image.resize(img, size = [img_shape, img_shape])\n",
    "    pred = model.predict(tf.expand_dims(img, axis=0))\n",
    "    pred_class = class_names[tf.argmax(pred[0])]\n",
    "    print(pred)\n",
    "    print(tf.argmax(pred[0]))\n",
    "    img1 = img/255.\n",
    "    plt.imshow(img1)\n",
    "    plt.title(\"Prediction: %s @ %.4f \"%(pred_class,pred[0][tf.argmax(pred[0])]))\n",
    "    plt.axis(False);\n",
    "    plt.show()\n",
    "    return pred"
   ]
  },
  {
   "cell_type": "code",
   "execution_count": null,
   "metadata": {},
   "outputs": [],
   "source": [
    "combo_pred(mymo,\"/content/catdog/train/cats/cat.1799.jpg\",class_names)\n",
    "combo_pred(mymo,\"/content/catdog/train/dogs/dog.1799.jpg\",class_names)"
   ]
  },
  {
   "cell_type": "code",
   "execution_count": null,
   "metadata": {},
   "outputs": [],
   "source": []
  }
 ],
 "metadata": {
  "kernelspec": {
   "display_name": "Python 3",
   "language": "python",
   "name": "python3"
  },
  "language_info": {
   "codemirror_mode": {
    "name": "ipython",
    "version": 3
   },
   "file_extension": ".py",
   "mimetype": "text/x-python",
   "name": "python",
   "nbconvert_exporter": "python",
   "pygments_lexer": "ipython3",
   "version": "3.10.10"
  }
 },
 "nbformat": 4,
 "nbformat_minor": 2
}
